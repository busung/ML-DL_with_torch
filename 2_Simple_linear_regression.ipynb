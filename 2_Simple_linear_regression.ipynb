{
  "nbformat": 4,
  "nbformat_minor": 0,
  "metadata": {
    "colab": {
      "name": "2. Simple linear regression.ipynb",
      "provenance": [],
      "authorship_tag": "ABX9TyPFAHEH6AGrlDFJLXjhPwON",
      "include_colab_link": true
    },
    "kernelspec": {
      "name": "python3",
      "display_name": "Python 3"
    },
    "language_info": {
      "name": "python"
    }
  },
  "cells": [
    {
      "cell_type": "markdown",
      "metadata": {
        "id": "view-in-github",
        "colab_type": "text"
      },
      "source": [
        "<a href=\"https://colab.research.google.com/github/busung/ML-DL_with_torch/blob/main/2_Simple_linear_regression.ipynb\" target=\"_parent\"><img src=\"https://colab.research.google.com/assets/colab-badge.svg\" alt=\"Open In Colab\"/></a>"
      ]
    },
    {
      "cell_type": "code",
      "source": [
        "import torch\n",
        "import tqdm "
      ],
      "metadata": {
        "id": "c3ZXF1DhTxyP"
      },
      "execution_count": 23,
      "outputs": []
    },
    {
      "cell_type": "code",
      "execution_count": 3,
      "metadata": {
        "id": "Xa1ecqHpTRiI"
      },
      "outputs": [],
      "source": [
        "x_train = torch.FloatTensor([[1],[2],[3]])\n",
        "y_train = torch.FloatTensor([[2],[4],[6]])"
      ]
    },
    {
      "cell_type": "code",
      "source": [
        "# 가설 설정 => 선형회귀이기에 기울기와 절편으로 구성되어 있음\n",
        "W = torch.zeros(1, requires_grad = True)\n",
        "b = torch.zeros(1, requires_grad = True)"
      ],
      "metadata": {
        "id": "6scjR6ybTupN"
      },
      "execution_count": 9,
      "outputs": []
    },
    {
      "cell_type": "code",
      "source": [
        "optimizer = torch.optim.SGD([W,b], lr = 0.01)\n",
        "\n",
        "nb_epochs=1000\n",
        "for epoch in tqdm.tqdm(range(1,nb_epochs+1)):\n",
        "  # 가설 설정 => 선형회귀이기에 기울기와 절편으로 구성되어 있음\n",
        "  hypothesis = x_train * W +b\n",
        "  #Loss function\n",
        "  #여기선 MSE를 사용\n",
        "  cost = torch.mean((hypothesis-y_train)**2)\n",
        "\n",
        "  optimizer.zero_grad()#gradient 초기화\n",
        "  cost.backward()#gradient 계산\n",
        "  optimizer.step()#개선\n",
        "  if epoch%100 == 0:\n",
        "    print(\"epoch:{} cost:{}\".format(epoch,cost))"
      ],
      "metadata": {
        "colab": {
          "base_uri": "https://localhost:8080/"
        },
        "id": "MN12LizHWMKB",
        "outputId": "4321278e-92f7-4319-c9c3-4690452c1084"
      },
      "execution_count": 27,
      "outputs": [
        {
          "output_type": "stream",
          "name": "stderr",
          "text": [
            " 85%|████████▌ | 851/1000 [00:00<00:00, 4282.38it/s]"
          ]
        },
        {
          "output_type": "stream",
          "name": "stdout",
          "text": [
            "epoch:100 cost:2.1829767160586044e-10\n",
            "epoch:200 cost:1.3862215542115308e-10\n",
            "epoch:300 cost:9.521272659185342e-11\n",
            "epoch:400 cost:6.610889613511972e-11\n",
            "epoch:500 cost:4.585369237086745e-11\n",
            "epoch:600 cost:3.501554601825774e-11\n",
            "epoch:700 cost:2.6526928223469248e-11\n",
            "epoch:800 cost:2.305947967295996e-11\n",
            "epoch:900 cost:1.8568849582956126e-11\n"
          ]
        },
        {
          "output_type": "stream",
          "name": "stderr",
          "text": [
            "\r100%|██████████| 1000/1000 [00:00<00:00, 4148.23it/s]"
          ]
        },
        {
          "output_type": "stream",
          "name": "stdout",
          "text": [
            "epoch:1000 cost:1.7678303265711293e-11\n"
          ]
        },
        {
          "output_type": "stream",
          "name": "stderr",
          "text": [
            "\n"
          ]
        }
      ]
    }
  ]
}