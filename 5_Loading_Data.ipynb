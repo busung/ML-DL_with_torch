{
  "nbformat": 4,
  "nbformat_minor": 0,
  "metadata": {
    "colab": {
      "name": "5. Loading Data.ipynb",
      "provenance": [],
      "authorship_tag": "ABX9TyNtnyBlygcwXGAcdvYL05tW",
      "include_colab_link": true
    },
    "kernelspec": {
      "name": "python3",
      "display_name": "Python 3"
    },
    "language_info": {
      "name": "python"
    }
  },
  "cells": [
    {
      "cell_type": "markdown",
      "metadata": {
        "id": "view-in-github",
        "colab_type": "text"
      },
      "source": [
        "<a href=\"https://colab.research.google.com/github/busung/ML-DL_with_torch/blob/main/5_Loading_Data.ipynb\" target=\"_parent\"><img src=\"https://colab.research.google.com/assets/colab-badge.svg\" alt=\"Open In Colab\"/></a>"
      ]
    },
    {
      "cell_type": "code",
      "execution_count": 10,
      "metadata": {
        "id": "gSuAg6hKV6I2"
      },
      "outputs": [],
      "source": [
        "import torch\n",
        "import torch.nn as nn\n",
        "from torch import optim\n",
        "from torch.utils.data import Dataset\n",
        "from torch.utils.data import DataLoader\n",
        "import torch.nn.functional as F"
      ]
    },
    {
      "cell_type": "code",
      "source": [
        "class CustomDataset(Dataset):\n",
        "  def __init__(self):\n",
        "    self.x_data = [[73,80,75],\n",
        "                    [93,88,93],\n",
        "                    [89,91,90],\n",
        "                    [96,98,100],\n",
        "                    [73,66,70]]\n",
        "\n",
        "    self.y_data = [[152],[185],[180],[196],[142]]\n",
        "\n",
        "  def __len__(self):#총 데이터의 양을 반환\n",
        "    return len(self.x_data)\n",
        "\n",
        "  def __getitem__(self,idx):#index가 주어지면 해당되는 데이터 값을 반환\n",
        "\n",
        "    x = torch.FloatTensor(self.x_data[idx])\n",
        "    y = torch.FloatTensor(self.y_data[idx])\n",
        "\n",
        "    return x,y\n",
        "  \n",
        "dataset = CustomDataset()"
      ],
      "metadata": {
        "id": "Mt6cVAVwXQrb"
      },
      "execution_count": 12,
      "outputs": []
    },
    {
      "cell_type": "code",
      "source": [
        "dataloader = DataLoader(\n",
        "    dataset,\n",
        "    batch_size=2,#minibatch 학습을 진행 보통 2의 제곱수로 지정함\n",
        "    shuffle=True\n",
        ")"
      ],
      "metadata": {
        "id": "2B7O2HjAX5_c"
      },
      "execution_count": 13,
      "outputs": []
    },
    {
      "cell_type": "code",
      "source": [
        "class MultiRegressionModel(nn.Module):\n",
        "  def __init__(self):\n",
        "    super().__init__()\n",
        "    self.linear = nn.Linear(3,1)\n",
        "\n",
        "  def forward(self,x):\n",
        "    return self.linear(x)"
      ],
      "metadata": {
        "id": "O5T_KHMRYExQ"
      },
      "execution_count": 23,
      "outputs": []
    },
    {
      "cell_type": "code",
      "source": [
        "model = MultiRegressionModel()\n",
        "optimizer = optim.SGD(model.parameters(),lr=1e-5)\n",
        "\n",
        "nb_epochs = 20\n",
        "\n",
        "for epoch in range(0,nb_epochs+1):\n",
        "  for batch_idx,samples in enumerate(dataloader):#dataloader는 x,y값을 튜플로 반환\n",
        "    x_train,y_train = samples#튜플로 반환되어 있기에 이런 식으로 가능\n",
        "    prediction = model(x_train)\n",
        "    cost = F.mse_loss(prediction,y_train)\n",
        "\n",
        "    optimizer.zero_grad()\n",
        "    cost.backward()\n",
        "    optimizer.step()\n",
        "    if epoch % 5 ==0:\n",
        "      print(\"Epoch={} batch={}, cost={:4f}\".format(epoch,batch_idx+1,cost.item()))"
      ],
      "metadata": {
        "colab": {
          "base_uri": "https://localhost:8080/"
        },
        "id": "R1wXMYfHYZci",
        "outputId": "8f3be793-6bb1-4318-d54a-6819f880aa08"
      },
      "execution_count": 27,
      "outputs": [
        {
          "output_type": "stream",
          "name": "stdout",
          "text": [
            "Epoch=0 batch=1, cost=32012.929688\n",
            "Epoch=0 batch=2, cost=10211.826172\n",
            "Epoch=0 batch=3, cost=3944.373291\n",
            "Epoch=5 batch=1, cost=1.333963\n",
            "Epoch=5 batch=2, cost=1.287937\n",
            "Epoch=5 batch=3, cost=5.839049\n",
            "Epoch=10 batch=1, cost=0.496269\n",
            "Epoch=10 batch=2, cost=3.818032\n",
            "Epoch=10 batch=3, cost=0.633357\n",
            "Epoch=15 batch=1, cost=0.168914\n",
            "Epoch=15 batch=2, cost=0.630896\n",
            "Epoch=15 batch=3, cost=6.834583\n",
            "Epoch=20 batch=1, cost=1.756002\n",
            "Epoch=20 batch=2, cost=3.397780\n",
            "Epoch=20 batch=3, cost=0.053271\n"
          ]
        }
      ]
    },
    {
      "cell_type": "code",
      "source": [
        "#dataloader을 출력값\n",
        "for batch_idx,samples in enumerate(dataloader):\n",
        "  x_train,y_train = samples\n",
        "  print(x_train)\n",
        "  print(y_train)"
      ],
      "metadata": {
        "colab": {
          "base_uri": "https://localhost:8080/"
        },
        "id": "TsEk_FEVY4k9",
        "outputId": "8a4de80c-1d1c-4e42-9da6-d10825b74c26"
      },
      "execution_count": 26,
      "outputs": [
        {
          "output_type": "stream",
          "name": "stdout",
          "text": [
            "tensor([[89., 91., 90.],\n",
            "        [93., 88., 93.]])\n",
            "tensor([[180.],\n",
            "        [185.]])\n",
            "tensor([[73., 80., 75.],\n",
            "        [73., 66., 70.]])\n",
            "tensor([[152.],\n",
            "        [142.]])\n",
            "tensor([[ 96.,  98., 100.]])\n",
            "tensor([[196.]])\n"
          ]
        }
      ]
    }
  ]
}